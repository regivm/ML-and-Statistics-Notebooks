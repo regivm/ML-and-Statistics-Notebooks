{
 "cells": [
  {
   "cell_type": "code",
   "execution_count": 72,
   "metadata": {},
   "outputs": [],
   "source": [
    "# Import required libraries\n",
    "import pandas as pd\n",
    "import numpy as np \n",
    "import matplotlib.pyplot as plt\n",
    "import sklearn\n",
    "\n",
    "# Import necessary modules\n",
    "from sklearn.model_selection import train_test_split\n",
    "from sklearn.metrics import mean_squared_error, r2_score\n",
    "from math import sqrt\n",
    "\n",
    "# Keras specific\n",
    "import keras\n",
    "from keras.models import Sequential\n",
    "from keras.layers import Dense\n",
    "import keras.backend as K "
   ]
  },
  {
   "cell_type": "code",
   "execution_count": 73,
   "metadata": {},
   "outputs": [],
   "source": [
    "from sklearn.datasets import load_boston\n",
    "from sklearn.preprocessing import StandardScaler\n",
    "ss = StandardScaler()\n",
    "\n",
    "yy = load_boston().target.reshape(-1,1)\n",
    "df = pd.DataFrame(load_boston().data, columns=load_boston().feature_names)\n",
    "df['price'] = yy\n",
    "df = df.sample(frac=1, random_state=44)\n",
    "\n",
    "y = df['price'].values.reshape(-1,1)\n",
    "X = df.drop('price', axis=1)\n",
    "xcols = list(X.columns)"
   ]
  },
  {
   "cell_type": "code",
   "execution_count": 74,
   "metadata": {},
   "outputs": [
    {
     "name": "stdout",
     "output_type": "stream",
     "text": [
      "(354, 13)\n",
      "(152, 13)\n"
     ]
    }
   ],
   "source": [
    "X_train, X_test, y_train, y_test = train_test_split(X, y, test_size=0.30, random_state=40)\n",
    "print(X_train.shape); print(X_test.shape)"
   ]
  },
  {
   "cell_type": "code",
   "execution_count": 75,
   "metadata": {},
   "outputs": [],
   "source": [
    "from sklearn.preprocessing import MinMaxScaler, StandardScaler\n",
    "slr = MinMaxScaler()\n",
    "#slr = StandardScaler()\n",
    "\n",
    "X_train = slr.fit_transform(X_train)\n",
    "X_test = slr.transform(X_test)\n",
    "\n",
    "X_train = pd.DataFrame(X_train, columns=X.columns)\n",
    "X_test = pd.DataFrame(X_test, columns=X.columns)\n",
    "\n",
    "X_train['const']=1\n",
    "X_test['const']=1\n",
    "xcols = X_train.columns"
   ]
  },
  {
   "cell_type": "code",
   "execution_count": 76,
   "metadata": {},
   "outputs": [
    {
     "name": "stdout",
     "output_type": "stream",
     "text": [
      "0.7425079878455908\n",
      "0.7218335895852863\n"
     ]
    }
   ],
   "source": [
    "import statsmodels.api as sm\n",
    "\n",
    "mod = sm.OLS(y_train, X_train).fit()\n",
    "\n",
    "y_train_pred = mod.predict(X_train)\n",
    "y_test_pred = mod.predict(X_test)\n",
    "\n",
    "print(r2_score(y_train,y_train_pred))\n",
    "print(r2_score(y_test,y_test_pred))"
   ]
  },
  {
   "cell_type": "code",
   "execution_count": 77,
   "metadata": {},
   "outputs": [
    {
     "data": {
      "text/html": [
       "<table class=\"simpletable\">\n",
       "<caption>OLS Regression Results</caption>\n",
       "<tr>\n",
       "  <th>Dep. Variable:</th>            <td>y</td>        <th>  R-squared:         </th> <td>   0.743</td>\n",
       "</tr>\n",
       "<tr>\n",
       "  <th>Model:</th>                   <td>OLS</td>       <th>  Adj. R-squared:    </th> <td>   0.733</td>\n",
       "</tr>\n",
       "<tr>\n",
       "  <th>Method:</th>             <td>Least Squares</td>  <th>  F-statistic:       </th> <td>   75.42</td>\n",
       "</tr>\n",
       "<tr>\n",
       "  <th>Date:</th>             <td>Sat, 05 Jun 2021</td> <th>  Prob (F-statistic):</th> <td>9.48e-92</td>\n",
       "</tr>\n",
       "<tr>\n",
       "  <th>Time:</th>                 <td>09:21:14</td>     <th>  Log-Likelihood:    </th> <td> -1040.2</td>\n",
       "</tr>\n",
       "<tr>\n",
       "  <th>No. Observations:</th>      <td>   354</td>      <th>  AIC:               </th> <td>   2108.</td>\n",
       "</tr>\n",
       "<tr>\n",
       "  <th>Df Residuals:</th>          <td>   340</td>      <th>  BIC:               </th> <td>   2163.</td>\n",
       "</tr>\n",
       "<tr>\n",
       "  <th>Df Model:</th>              <td>    13</td>      <th>                     </th>     <td> </td>   \n",
       "</tr>\n",
       "<tr>\n",
       "  <th>Covariance Type:</th>      <td>nonrobust</td>    <th>                     </th>     <td> </td>   \n",
       "</tr>\n",
       "</table>\n",
       "<table class=\"simpletable\">\n",
       "<tr>\n",
       "     <td></td>        <th>coef</th>     <th>std err</th>      <th>t</th>      <th>P>|t|</th>  <th>[0.025</th>    <th>0.975]</th>  \n",
       "</tr>\n",
       "<tr>\n",
       "  <th>CRIM</th>    <td>  -11.0542</td> <td>    3.505</td> <td>   -3.154</td> <td> 0.002</td> <td>  -17.948</td> <td>   -4.161</td>\n",
       "</tr>\n",
       "<tr>\n",
       "  <th>ZN</th>      <td>    5.6405</td> <td>    1.523</td> <td>    3.703</td> <td> 0.000</td> <td>    2.644</td> <td>    8.637</td>\n",
       "</tr>\n",
       "<tr>\n",
       "  <th>INDUS</th>   <td>    2.1967</td> <td>    2.051</td> <td>    1.071</td> <td> 0.285</td> <td>   -1.838</td> <td>    6.232</td>\n",
       "</tr>\n",
       "<tr>\n",
       "  <th>CHAS</th>    <td>    1.7866</td> <td>    0.949</td> <td>    1.883</td> <td> 0.061</td> <td>   -0.080</td> <td>    3.653</td>\n",
       "</tr>\n",
       "<tr>\n",
       "  <th>NOX</th>     <td>   -8.7021</td> <td>    2.078</td> <td>   -4.189</td> <td> 0.000</td> <td>  -12.789</td> <td>   -4.616</td>\n",
       "</tr>\n",
       "<tr>\n",
       "  <th>RM</th>      <td>   16.9098</td> <td>    2.490</td> <td>    6.791</td> <td> 0.000</td> <td>   12.012</td> <td>   21.808</td>\n",
       "</tr>\n",
       "<tr>\n",
       "  <th>AGE</th>     <td>    0.5125</td> <td>    1.551</td> <td>    0.330</td> <td> 0.741</td> <td>   -2.539</td> <td>    3.564</td>\n",
       "</tr>\n",
       "<tr>\n",
       "  <th>DIS</th>     <td>  -14.7983</td> <td>    2.620</td> <td>   -5.649</td> <td> 0.000</td> <td>  -19.951</td> <td>   -9.645</td>\n",
       "</tr>\n",
       "<tr>\n",
       "  <th>RAD</th>     <td>    7.6387</td> <td>    1.855</td> <td>    4.119</td> <td> 0.000</td> <td>    3.991</td> <td>   11.287</td>\n",
       "</tr>\n",
       "<tr>\n",
       "  <th>TAX</th>     <td>   -8.1633</td> <td>    2.411</td> <td>   -3.386</td> <td> 0.001</td> <td>  -12.905</td> <td>   -3.421</td>\n",
       "</tr>\n",
       "<tr>\n",
       "  <th>PTRATIO</th> <td>   -9.6642</td> <td>    1.488</td> <td>   -6.495</td> <td> 0.000</td> <td>  -12.591</td> <td>   -6.738</td>\n",
       "</tr>\n",
       "<tr>\n",
       "  <th>B</th>       <td>    2.1452</td> <td>    1.257</td> <td>    1.706</td> <td> 0.089</td> <td>   -0.328</td> <td>    4.618</td>\n",
       "</tr>\n",
       "<tr>\n",
       "  <th>LSTAT</th>   <td>  -17.8594</td> <td>    2.021</td> <td>   -8.836</td> <td> 0.000</td> <td>  -21.835</td> <td>  -13.884</td>\n",
       "</tr>\n",
       "<tr>\n",
       "  <th>const</th>   <td>   29.7845</td> <td>    2.804</td> <td>   10.620</td> <td> 0.000</td> <td>   24.268</td> <td>   35.301</td>\n",
       "</tr>\n",
       "</table>\n",
       "<table class=\"simpletable\">\n",
       "<tr>\n",
       "  <th>Omnibus:</th>       <td>145.161</td> <th>  Durbin-Watson:     </th> <td>   1.777</td> \n",
       "</tr>\n",
       "<tr>\n",
       "  <th>Prob(Omnibus):</th> <td> 0.000</td>  <th>  Jarque-Bera (JB):  </th> <td> 750.473</td> \n",
       "</tr>\n",
       "<tr>\n",
       "  <th>Skew:</th>          <td> 1.669</td>  <th>  Prob(JB):          </th> <td>1.09e-163</td>\n",
       "</tr>\n",
       "<tr>\n",
       "  <th>Kurtosis:</th>      <td> 9.303</td>  <th>  Cond. No.          </th> <td>    30.4</td> \n",
       "</tr>\n",
       "</table><br/><br/>Notes:<br/>[1] Standard Errors assume that the covariance matrix of the errors is correctly specified."
      ],
      "text/plain": [
       "<class 'statsmodels.iolib.summary.Summary'>\n",
       "\"\"\"\n",
       "                            OLS Regression Results                            \n",
       "==============================================================================\n",
       "Dep. Variable:                      y   R-squared:                       0.743\n",
       "Model:                            OLS   Adj. R-squared:                  0.733\n",
       "Method:                 Least Squares   F-statistic:                     75.42\n",
       "Date:                Sat, 05 Jun 2021   Prob (F-statistic):           9.48e-92\n",
       "Time:                        09:21:14   Log-Likelihood:                -1040.2\n",
       "No. Observations:                 354   AIC:                             2108.\n",
       "Df Residuals:                     340   BIC:                             2163.\n",
       "Df Model:                          13                                         \n",
       "Covariance Type:            nonrobust                                         \n",
       "==============================================================================\n",
       "                 coef    std err          t      P>|t|      [0.025      0.975]\n",
       "------------------------------------------------------------------------------\n",
       "CRIM         -11.0542      3.505     -3.154      0.002     -17.948      -4.161\n",
       "ZN             5.6405      1.523      3.703      0.000       2.644       8.637\n",
       "INDUS          2.1967      2.051      1.071      0.285      -1.838       6.232\n",
       "CHAS           1.7866      0.949      1.883      0.061      -0.080       3.653\n",
       "NOX           -8.7021      2.078     -4.189      0.000     -12.789      -4.616\n",
       "RM            16.9098      2.490      6.791      0.000      12.012      21.808\n",
       "AGE            0.5125      1.551      0.330      0.741      -2.539       3.564\n",
       "DIS          -14.7983      2.620     -5.649      0.000     -19.951      -9.645\n",
       "RAD            7.6387      1.855      4.119      0.000       3.991      11.287\n",
       "TAX           -8.1633      2.411     -3.386      0.001     -12.905      -3.421\n",
       "PTRATIO       -9.6642      1.488     -6.495      0.000     -12.591      -6.738\n",
       "B              2.1452      1.257      1.706      0.089      -0.328       4.618\n",
       "LSTAT        -17.8594      2.021     -8.836      0.000     -21.835     -13.884\n",
       "const         29.7845      2.804     10.620      0.000      24.268      35.301\n",
       "==============================================================================\n",
       "Omnibus:                      145.161   Durbin-Watson:                   1.777\n",
       "Prob(Omnibus):                  0.000   Jarque-Bera (JB):              750.473\n",
       "Skew:                           1.669   Prob(JB):                    1.09e-163\n",
       "Kurtosis:                       9.303   Cond. No.                         30.4\n",
       "==============================================================================\n",
       "\n",
       "Notes:\n",
       "[1] Standard Errors assume that the covariance matrix of the errors is correctly specified.\n",
       "\"\"\""
      ]
     },
     "execution_count": 77,
     "metadata": {},
     "output_type": "execute_result"
    }
   ],
   "source": [
    "mod.summary()"
   ]
  },
  {
   "cell_type": "code",
   "execution_count": 78,
   "metadata": {},
   "outputs": [
    {
     "data": {
      "text/plain": [
       "CRIM      -11.054240\n",
       "ZN          5.640528\n",
       "INDUS       2.196697\n",
       "CHAS        1.786591\n",
       "NOX        -8.702105\n",
       "RM         16.909823\n",
       "AGE         0.512469\n",
       "DIS       -14.798340\n",
       "RAD         7.638718\n",
       "TAX        -8.163295\n",
       "PTRATIO    -9.664236\n",
       "B           2.145161\n",
       "LSTAT     -17.859443\n",
       "const      29.784514\n",
       "dtype: float64"
      ]
     },
     "execution_count": 78,
     "metadata": {},
     "output_type": "execute_result"
    }
   ],
   "source": [
    "mod.params"
   ]
  },
  {
   "cell_type": "code",
   "execution_count": 79,
   "metadata": {},
   "outputs": [
    {
     "data": {
      "text/plain": [
       "(354, 14)"
      ]
     },
     "execution_count": 79,
     "metadata": {},
     "output_type": "execute_result"
    }
   ],
   "source": [
    "X_train.shape"
   ]
  },
  {
   "cell_type": "code",
   "execution_count": 80,
   "metadata": {},
   "outputs": [],
   "source": [
    "# Define model\n",
    "K.clear_session()\n",
    "model = Sequential()\n",
    "model.add(Dense(1, input_dim=14, use_bias=False, activation= \"linear\"))"
   ]
  },
  {
   "cell_type": "raw",
   "metadata": {},
   "source": [
    "'use_bias=False' is used as const=1 is added into the data"
   ]
  },
  {
   "cell_type": "code",
   "execution_count": 81,
   "metadata": {},
   "outputs": [
    {
     "name": "stdout",
     "output_type": "stream",
     "text": [
      "Model: \"sequential_1\"\n",
      "_________________________________________________________________\n",
      "Layer (type)                 Output Shape              Param #   \n",
      "=================================================================\n",
      "dense_1 (Dense)              (None, 1)                 14        \n",
      "=================================================================\n",
      "Total params: 14\n",
      "Trainable params: 14\n",
      "Non-trainable params: 0\n",
      "_________________________________________________________________\n"
     ]
    }
   ],
   "source": [
    "model.summary()"
   ]
  },
  {
   "cell_type": "code",
   "execution_count": 82,
   "metadata": {},
   "outputs": [
    {
     "data": {
      "text/plain": [
       "<keras.callbacks.callbacks.History at 0x1ccf773c7c8>"
      ]
     },
     "execution_count": 82,
     "metadata": {},
     "output_type": "execute_result"
    }
   ],
   "source": [
    "model.compile(loss= \"mse\" , optimizer=\"sgd\")\n",
    "model.fit(X_train, y_train, epochs=1000, batch_size=1, verbose=0)"
   ]
  },
  {
   "cell_type": "code",
   "execution_count": 83,
   "metadata": {},
   "outputs": [
    {
     "name": "stdout",
     "output_type": "stream",
     "text": [
      "0.7418353984011326\n",
      "4.576415855840342\n",
      "\n",
      "\n",
      "0.7172722562237588\n",
      "5.100207968562415\n"
     ]
    }
   ],
   "source": [
    "y_train_pred = model.predict(X_train)\n",
    "print(r2_score(y_train,y_train_pred))\n",
    "print(np.sqrt(mean_squared_error(y_train, y_train_pred)))\n",
    "\n",
    "print('\\n')\n",
    "y_test_pred= model.predict(X_test)\n",
    "print(r2_score(y_test,y_test_pred))\n",
    "print(np.sqrt(mean_squared_error(y_test, y_test_pred))) "
   ]
  },
  {
   "cell_type": "code",
   "execution_count": 84,
   "metadata": {},
   "outputs": [
    {
     "name": "stdout",
     "output_type": "stream",
     "text": [
      "[array([[-11.354159  ],\n",
      "       [  5.7557907 ],\n",
      "       [  2.1206596 ],\n",
      "       [  1.9280508 ],\n",
      "       [ -8.848407  ],\n",
      "       [ 16.805164  ],\n",
      "       [  0.43767413],\n",
      "       [-14.843246  ],\n",
      "       [  7.620722  ],\n",
      "       [ -8.017069  ],\n",
      "       [ -9.852306  ],\n",
      "       [  2.1064188 ],\n",
      "       [-17.89195   ],\n",
      "       [ 29.861416  ]], dtype=float32)]\n"
     ]
    }
   ],
   "source": [
    "print(model.get_weights())"
   ]
  },
  {
   "cell_type": "code",
   "execution_count": 85,
   "metadata": {},
   "outputs": [],
   "source": [
    "#xcols.insert(0, 'const')"
   ]
  },
  {
   "cell_type": "code",
   "execution_count": 86,
   "metadata": {},
   "outputs": [
    {
     "data": {
      "text/plain": [
       "14"
      ]
     },
     "execution_count": 86,
     "metadata": {},
     "output_type": "execute_result"
    }
   ],
   "source": [
    "len(xcols)"
   ]
  },
  {
   "cell_type": "code",
   "execution_count": 87,
   "metadata": {},
   "outputs": [
    {
     "data": {
      "text/plain": [
       "14"
      ]
     },
     "execution_count": 87,
     "metadata": {},
     "output_type": "execute_result"
    }
   ],
   "source": [
    "len(model.get_weights()[0])"
   ]
  },
  {
   "cell_type": "code",
   "execution_count": 88,
   "metadata": {},
   "outputs": [
    {
     "data": {
      "text/html": [
       "<div>\n",
       "<style scoped>\n",
       "    .dataframe tbody tr th:only-of-type {\n",
       "        vertical-align: middle;\n",
       "    }\n",
       "\n",
       "    .dataframe tbody tr th {\n",
       "        vertical-align: top;\n",
       "    }\n",
       "\n",
       "    .dataframe thead th {\n",
       "        text-align: right;\n",
       "    }\n",
       "</style>\n",
       "<table border=\"1\" class=\"dataframe\">\n",
       "  <thead>\n",
       "    <tr style=\"text-align: right;\">\n",
       "      <th></th>\n",
       "      <th>ANN coefts</th>\n",
       "      <th>REG coefts</th>\n",
       "    </tr>\n",
       "  </thead>\n",
       "  <tbody>\n",
       "    <tr>\n",
       "      <th>CRIM</th>\n",
       "      <td>-11.354159</td>\n",
       "      <td>-11.054240</td>\n",
       "    </tr>\n",
       "    <tr>\n",
       "      <th>ZN</th>\n",
       "      <td>5.755791</td>\n",
       "      <td>5.640528</td>\n",
       "    </tr>\n",
       "    <tr>\n",
       "      <th>INDUS</th>\n",
       "      <td>2.120660</td>\n",
       "      <td>2.196697</td>\n",
       "    </tr>\n",
       "    <tr>\n",
       "      <th>CHAS</th>\n",
       "      <td>1.928051</td>\n",
       "      <td>1.786591</td>\n",
       "    </tr>\n",
       "    <tr>\n",
       "      <th>NOX</th>\n",
       "      <td>-8.848407</td>\n",
       "      <td>-8.702105</td>\n",
       "    </tr>\n",
       "    <tr>\n",
       "      <th>RM</th>\n",
       "      <td>16.805164</td>\n",
       "      <td>16.909823</td>\n",
       "    </tr>\n",
       "    <tr>\n",
       "      <th>AGE</th>\n",
       "      <td>0.437674</td>\n",
       "      <td>0.512469</td>\n",
       "    </tr>\n",
       "    <tr>\n",
       "      <th>DIS</th>\n",
       "      <td>-14.843246</td>\n",
       "      <td>-14.798340</td>\n",
       "    </tr>\n",
       "    <tr>\n",
       "      <th>RAD</th>\n",
       "      <td>7.620722</td>\n",
       "      <td>7.638718</td>\n",
       "    </tr>\n",
       "    <tr>\n",
       "      <th>TAX</th>\n",
       "      <td>-8.017069</td>\n",
       "      <td>-8.163295</td>\n",
       "    </tr>\n",
       "    <tr>\n",
       "      <th>PTRATIO</th>\n",
       "      <td>-9.852306</td>\n",
       "      <td>-9.664236</td>\n",
       "    </tr>\n",
       "    <tr>\n",
       "      <th>B</th>\n",
       "      <td>2.106419</td>\n",
       "      <td>2.145161</td>\n",
       "    </tr>\n",
       "    <tr>\n",
       "      <th>LSTAT</th>\n",
       "      <td>-17.891951</td>\n",
       "      <td>-17.859443</td>\n",
       "    </tr>\n",
       "    <tr>\n",
       "      <th>const</th>\n",
       "      <td>29.861416</td>\n",
       "      <td>29.784514</td>\n",
       "    </tr>\n",
       "  </tbody>\n",
       "</table>\n",
       "</div>"
      ],
      "text/plain": [
       "         ANN coefts  REG coefts\n",
       "CRIM     -11.354159  -11.054240\n",
       "ZN         5.755791    5.640528\n",
       "INDUS      2.120660    2.196697\n",
       "CHAS       1.928051    1.786591\n",
       "NOX       -8.848407   -8.702105\n",
       "RM        16.805164   16.909823\n",
       "AGE        0.437674    0.512469\n",
       "DIS      -14.843246  -14.798340\n",
       "RAD        7.620722    7.638718\n",
       "TAX       -8.017069   -8.163295\n",
       "PTRATIO   -9.852306   -9.664236\n",
       "B          2.106419    2.145161\n",
       "LSTAT    -17.891951  -17.859443\n",
       "const     29.861416   29.784514"
      ]
     },
     "execution_count": 88,
     "metadata": {},
     "output_type": "execute_result"
    }
   ],
   "source": [
    "ps = pd.DataFrame(mod.params, index=xcols, columns=['REG coefts'])\n",
    "annc = pd.DataFrame(model.get_weights()[0], index=xcols, columns=['ANN coefts'])\n",
    "annc2 = pd.concat([annc, ps], axis=1)\n",
    "annc2"
   ]
  },
  {
   "cell_type": "raw",
   "metadata": {},
   "source": [
    "The coefficients are quite close. This was obtained by choosing 'sgd' optimizer and 'mse' as loss. This proves that ANN is a set of linear model"
   ]
  }
 ],
 "metadata": {
  "kernelspec": {
   "display_name": "Python 3",
   "language": "python",
   "name": "python3"
  },
  "language_info": {
   "codemirror_mode": {
    "name": "ipython",
    "version": 3
   },
   "file_extension": ".py",
   "mimetype": "text/x-python",
   "name": "python",
   "nbconvert_exporter": "python",
   "pygments_lexer": "ipython3",
   "version": "3.7.7"
  }
 },
 "nbformat": 4,
 "nbformat_minor": 4
}
